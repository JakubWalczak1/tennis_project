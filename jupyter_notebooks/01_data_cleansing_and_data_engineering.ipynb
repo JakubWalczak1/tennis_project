{
 "cells": [
  {
   "cell_type": "code",
   "execution_count": 469,
   "metadata": {},
   "outputs": [],
   "source": [
    "# Data in this project comes from https://github.com/JeffSackmann/tennis_atp"
   ]
  },
  {
   "cell_type": "code",
   "execution_count": 470,
   "metadata": {},
   "outputs": [],
   "source": [
    "import numpy as np\n",
    "import pandas as pd\n",
    "import matplotlib.pyplot as plt\n",
    "import seaborn as sns\n",
    "from sklearn.model_selection import train_test_split"
   ]
  },
  {
   "cell_type": "markdown",
   "metadata": {},
   "source": [
    "## Importing data"
   ]
  },
  {
   "cell_type": "code",
   "execution_count": 471,
   "metadata": {},
   "outputs": [],
   "source": [
    "atp_all = pd.DataFrame()\n",
    "\n",
    "# Iterating through years from 1995 to 2023 and connecting them to DataFrame.\n",
    "for year in range(1995, 2024):\n",
    "    filename = f'../data/01_raw/atp_matches_{year}.csv'\n",
    "    try:\n",
    "        current_data = pd.read_csv(filename)\n",
    "        atp_all = pd.concat([atp_all, current_data], ignore_index=True)\n",
    "    except FileNotFoundError:\n",
    "        print(f\"File {filename} doesn't exist.\")\n",
    "\n",
    "atp_all.to_csv('../data/02_in_progress/atp_all.csv', index=False)"
   ]
  },
  {
   "cell_type": "markdown",
   "metadata": {},
   "source": [
    "## Splitting dataset to train and test set"
   ]
  },
  {
   "cell_type": "code",
   "execution_count": 472,
   "metadata": {},
   "outputs": [
    {
     "name": "stdout",
     "output_type": "stream",
     "text": [
      "<class 'pandas.core.frame.DataFrame'>\n",
      "RangeIndex: 89952 entries, 0 to 89951\n",
      "Data columns (total 49 columns):\n",
      " #   Column              Non-Null Count  Dtype  \n",
      "---  ------              --------------  -----  \n",
      " 0   tourney_id          89952 non-null  object \n",
      " 1   tourney_name        89952 non-null  object \n",
      " 2   surface             89899 non-null  object \n",
      " 3   draw_size           89952 non-null  int64  \n",
      " 4   tourney_level       89952 non-null  object \n",
      " 5   tourney_date        89952 non-null  int64  \n",
      " 6   match_num           89952 non-null  int64  \n",
      " 7   winner_id           89952 non-null  int64  \n",
      " 8   winner_seed         36592 non-null  float64\n",
      " 9   winner_entry        11145 non-null  object \n",
      " 10  winner_name         89952 non-null  object \n",
      " 11  winner_hand         89943 non-null  object \n",
      " 12  winner_ht           87804 non-null  float64\n",
      " 13  winner_ioc          89952 non-null  object \n",
      " 14  winner_age          89945 non-null  float64\n",
      " 15  loser_id            89952 non-null  int64  \n",
      " 16  loser_seed          20201 non-null  float64\n",
      " 17  loser_entry         18229 non-null  object \n",
      " 18  loser_name          89952 non-null  object \n",
      " 19  loser_hand          89910 non-null  object \n",
      " 20  loser_ht            85701 non-null  float64\n",
      " 21  loser_ioc           89952 non-null  object \n",
      " 22  loser_age           89938 non-null  float64\n",
      " 23  score               89952 non-null  object \n",
      " 24  best_of             89952 non-null  int64  \n",
      " 25  round               89952 non-null  object \n",
      " 26  minutes             79457 non-null  float64\n",
      " 27  w_ace               81462 non-null  float64\n",
      " 28  w_df                81462 non-null  float64\n",
      " 29  w_svpt              81462 non-null  float64\n",
      " 30  w_1stIn             81462 non-null  float64\n",
      " 31  w_1stWon            81462 non-null  float64\n",
      " 32  w_2ndWon            81462 non-null  float64\n",
      " 33  w_SvGms             81463 non-null  float64\n",
      " 34  w_bpSaved           81462 non-null  float64\n",
      " 35  w_bpFaced           81462 non-null  float64\n",
      " 36  l_ace               81462 non-null  float64\n",
      " 37  l_df                81462 non-null  float64\n",
      " 38  l_svpt              81462 non-null  float64\n",
      " 39  l_1stIn             81462 non-null  float64\n",
      " 40  l_1stWon            81462 non-null  float64\n",
      " 41  l_2ndWon            81462 non-null  float64\n",
      " 42  l_SvGms             81463 non-null  float64\n",
      " 43  l_bpSaved           81462 non-null  float64\n",
      " 44  l_bpFaced           81462 non-null  float64\n",
      " 45  winner_rank         89055 non-null  float64\n",
      " 46  winner_rank_points  88872 non-null  float64\n",
      " 47  loser_rank          87952 non-null  float64\n",
      " 48  loser_rank_points   87761 non-null  float64\n",
      "dtypes: float64(29), int64(6), object(14)\n",
      "memory usage: 33.6+ MB\n"
     ]
    }
   ],
   "source": [
    "# Checking what columns are available in dataset. And how many records there is.\n",
    "atp_all.info()"
   ]
  },
  {
   "cell_type": "code",
   "execution_count": 473,
   "metadata": {},
   "outputs": [],
   "source": [
    "# Changing tourney_date column to date format.\n",
    "atp_all['tourney_date'] = pd.to_datetime(atp_all['tourney_date'], format='%Y%m%d')\n",
    "\n",
    "\n",
    "# Years 1996-1999 won't be used in either training or testing. \n",
    "# Those years are only used to develop new fearures based on chronology.\n",
    "additional_data = atp_all.copy().loc[atp_all['tourney_date'] <= '1999-12-31', :]\n",
    "train_test_data = atp_all.loc[atp_all['tourney_date'] > '1999-12-31', :]\n",
    "\n",
    "# Splitting data into train and test set.\n",
    "train_data, test_data = train_test_split(train_test_data, random_state=42, test_size=0.2)\n",
    "\n",
    "# Assigning additional column to all 3 dataframes that says from which dataset comes the data.\n",
    "# It is necessary because later for part of data engineering process all dataframes will be connected back together.\n",
    "# There will be some features developed that need the data to be ordered chronogically (they use past records to\n",
    "# determine new values). For example: wins in last x years.\n",
    "# So later this new column will be needed to split datasets again the same way they were split originally to prevent data leakage.\n",
    "additional_data['source'] = 'additional_data'\n",
    "train_data['source'] = 'train_data'\n",
    "test_data['source'] = 'test_data'"
   ]
  },
  {
   "cell_type": "code",
   "execution_count": 474,
   "metadata": {},
   "outputs": [],
   "source": [
    "# Seving data.\n",
    "train_data.to_csv('../data/02_in_progress/train_set.csv', index=False)\n",
    "test_data.to_csv('../data/02_in_progress/test_set.csv', index=False)\n",
    "additional_data.to_csv('../data/02_in_progress/additional_set.csv', index=False)"
   ]
  },
  {
   "cell_type": "code",
   "execution_count": 475,
   "metadata": {},
   "outputs": [
    {
     "name": "stdout",
     "output_type": "stream",
     "text": [
      "57464\n",
      "14366\n",
      "18122\n"
     ]
    }
   ],
   "source": [
    "print(len(train_data))\n",
    "print(len(test_data))\n",
    "print(len(additional_data))"
   ]
  },
  {
   "cell_type": "markdown",
   "metadata": {},
   "source": [
    "## Data cleansing"
   ]
  },
  {
   "cell_type": "code",
   "execution_count": 476,
   "metadata": {},
   "outputs": [
    {
     "name": "stdout",
     "output_type": "stream",
     "text": [
      "tourney_level\n",
      "A    31478\n",
      "M    10656\n",
      "G     9670\n",
      "D     5328\n",
      "F      332\n",
      "Name: count, dtype: int64\n"
     ]
    }
   ],
   "source": [
    "# Checking tourney levels in data.\n",
    "print(train_data['tourney_level'].value_counts())"
   ]
  },
  {
   "cell_type": "code",
   "execution_count": 477,
   "metadata": {},
   "outputs": [],
   "source": [
    "# 'G' = Grand Slams, 'M' = Masters 1000s, 'A' = other tour-level events, 'F' = Tour finals and other season-ending events, and 'D' = Davis Cup\n",
    "\n",
    "# I decided to use data only from the main tour from level ATP 500 and above because according to ATP rules, starting with this\n",
    "# level players are punished for withdrawal from tournaments. For this reason the best players mostly don't start in lower level\n",
    "# tournaments (like ATP 250) and if they do, it is mostly for training purposes. I also decided to reject Davis Cup because it's\n",
    "# special international team tournament and Tour finals because it's special event that only top 8 players are allowed to participate in.\n",
    "\n",
    "# Because ATP 500 and ATP 250 are currently classified as the same category 'A', first I need to separate them with the right mapping.\n",
    "\n",
    "# First, I check the list of all unique tournames in the category 'A'. I exported it to .csv because it is easier to look through in Excel.\n",
    "atp_250_500 = pd.Series(atp_all[atp_all['tourney_level'] == 'A']['tourney_name'].unique())\n",
    "atp_250_500.to_csv('../data/02_in_progress/atp_250_500.csv', index=False)"
   ]
  },
  {
   "cell_type": "code",
   "execution_count": 478,
   "metadata": {},
   "outputs": [],
   "source": [
    "# Mapping duplicate names discovered in previous step.\n",
    "mapping_dict = {\n",
    "    'St Petersburg': 'St. Petersburg',\n",
    "    'Rio De Janeiro': 'Rio de Janeiro',\n",
    "    'Us Open': 'US Open'\n",
    "}\n",
    "\n",
    "def tourneys_mapping(df):\n",
    "    df.loc[:, 'tourney_name'] = df['tourney_name'].replace(mapping_dict)\n",
    "\n",
    "tourneys_mapping(train_data)"
   ]
  },
  {
   "cell_type": "code",
   "execution_count": 479,
   "metadata": {},
   "outputs": [],
   "source": [
    "# Based on data found on the Internet I had to create list of ATP 500 tournaments played between 1995 and 2023 and then use it in mapping.\n",
    "# Worth noting 1: ATP 500 used to be called ATP International Series Gold and ATP Championship Series in the past.\n",
    "# Worth noting 2: Not all tournaments were part of ATP 500 through it's whole existence. They could be promoted or demoted\n",
    "# so dates need to be consider in mapping.\n",
    "\n",
    "atp_500_list = [(\"Antwerp\", '1996-01-01', '1998-12-31'), (\"Memphis\", '1991-01-01', '2013-12-31'), ('Milan', '1993-01-01', '1997-12-31'),\n",
    "                ('London', '1998-01-01', '2000-12-31'), ('London', '2015-01-01', '2023-12-31'), ('Philadelphia', '1990-01-01', '1998-12-31'),\n",
    "                ('Stuttgart Indoor', '1990-01-01', '1995-12-31'), ('Stuttgart Outdoor', '1990-01-01', '2000-12-31'),\n",
    "                ('New Haven', '1990-01-01', '1998-12-31'), ('Singapore', '1997-01-01', '1999-12-31'), ('Dubai', '2001-01-01', '2023-12-31'),\n",
    "                ('Stuttgart', '2001-01-01', '2001-12-31'), ('Stuttgart', '2003-01-01', '2008-12-31'), ('Kitzbuhel', '1999-01-01', '2008-12-31'),\n",
    "                ('Washington', '1990-01-01', '2002-12-31'), ('Washington', '2009-01-01', '2023-12-31'), ('Indianapolis', '1990-01-01', '2002-12-31'),\n",
    "                ('Vienna', '1996-01-01', '2008-12-31'), ('Vienna', '2015-01-01', '2023-12-31'), ('Halle', '2015-01-01', '2023-12-31'),\n",
    "                ('Beijing', '2009-01-01', '2023-12-31'), ('Basel', '2009-01-01', '2023-12-31'), ('Valencia', '2009-01-01', '2014-12-31'),\n",
    "                ('St. Petersburg', '2020-01-01', '2020-12-31'), ('Astana', '2022-01-01', '2022-12-31'), (\"Rotterdam\", '1999-01-01', '2023-12-31'),\n",
    "                (\"Mexico City\", '2000-01-01', '2000-12-31'), (\"Acapulco\", '2001-01-01', '2023-12-31'), (\"Barcelona\", '1990-01-01', '2023-12-31'),\n",
    "                (\"Tokyo\", '1990-01-01', '2023-12-31'), (\"Tokyo Indoor\", '1990-01-01', '1995-12-31'), (\"Rio de Janeiro\", '2014-01-01', '2023-12-31'),\n",
    "                (\"Hamburg\", '2009-01-01', '2023-12-31')]\n",
    "\n",
    "def atp_500_mapping(df):\n",
    "    for i in range(len(atp_500_list)):\n",
    "        mask = (df['tourney_level'] == 'A') & \\\n",
    "            (df['tourney_name'] == atp_500_list[i][0]) & \\\n",
    "            (df['tourney_date'] > atp_500_list[i][1]) & \\\n",
    "            (df['tourney_date'] < atp_500_list[i][2])\n",
    "        \n",
    "        df.loc[mask, \"tourney_level\"] = \"ATP500\"\n",
    "\n",
    "atp_500_mapping(train_data)"
   ]
  },
  {
   "cell_type": "code",
   "execution_count": 480,
   "metadata": {},
   "outputs": [
    {
     "name": "stdout",
     "output_type": "stream",
     "text": [
      "tourney_level\n",
      "A         24248\n",
      "M         10656\n",
      "G          9670\n",
      "ATP500     7230\n",
      "D          5328\n",
      "F           332\n",
      "Name: count, dtype: int64\n"
     ]
    }
   ],
   "source": [
    "print(train_data['tourney_level'].value_counts())"
   ]
  },
  {
   "cell_type": "code",
   "execution_count": 481,
   "metadata": {},
   "outputs": [],
   "source": [
    "# Removing unnecesary records and columns.\n",
    "def remove_rows_cols(df):\n",
    "    # Removing matches outside of Grand Slam, Masters 1000, ATP 500 categories.\n",
    "    df = df.loc[df[\"tourney_level\"].isin([\"G\", \"M\", \"ATP500\"]), :]\n",
    "\n",
    "    # Removing matches ended by walkovers and retirements.\n",
    "    df = df[~df['score'].str.contains('RET|W/O')]\n",
    "\n",
    "    # Removing records if winner rank or loser rank is empty. \n",
    "    # Missing values constitute only (0.4%) of data so removing them is the best option.\n",
    "    df = df[(~df['loser_rank'].isna()) & (~df['winner_rank'].isna())]\n",
    "\n",
    "    # Removing unnecessary columns:\n",
    "    unnecessary_columns = ['tourney_id', 'draw_size', 'winner_seed', 'winner_name', 'loser_seed', 'loser_name', 'score', 'best_of', 'w_ace',\n",
    "                            'w_df', 'w_1stIn', 'w_SvGms', 'w_bpSaved', 'w_bpFaced', 'l_ace', 'l_df', 'l_1stIn', 'l_SvGms', 'l_bpSaved', 'l_bpFaced']\n",
    "    df = df.drop(unnecessary_columns, axis=1)\n",
    "    return df\n",
    "\n",
    "train_data = remove_rows_cols(train_data)"
   ]
  },
  {
   "cell_type": "markdown",
   "metadata": {},
   "source": [
    "## Data exploration"
   ]
  },
  {
   "cell_type": "code",
   "execution_count": 482,
   "metadata": {},
   "outputs": [
    {
     "data": {
      "text/html": [
       "<div>\n",
       "<style scoped>\n",
       "    .dataframe tbody tr th:only-of-type {\n",
       "        vertical-align: middle;\n",
       "    }\n",
       "\n",
       "    .dataframe tbody tr th {\n",
       "        vertical-align: top;\n",
       "    }\n",
       "\n",
       "    .dataframe thead th {\n",
       "        text-align: right;\n",
       "    }\n",
       "</style>\n",
       "<table border=\"1\" class=\"dataframe\">\n",
       "  <thead>\n",
       "    <tr style=\"text-align: right;\">\n",
       "      <th></th>\n",
       "      <th>tourney_date</th>\n",
       "      <th>match_num</th>\n",
       "      <th>winner_id</th>\n",
       "      <th>winner_ht</th>\n",
       "      <th>winner_age</th>\n",
       "      <th>loser_id</th>\n",
       "      <th>loser_ht</th>\n",
       "      <th>loser_age</th>\n",
       "      <th>minutes</th>\n",
       "      <th>w_svpt</th>\n",
       "      <th>w_1stWon</th>\n",
       "      <th>w_2ndWon</th>\n",
       "      <th>l_svpt</th>\n",
       "      <th>l_1stWon</th>\n",
       "      <th>l_2ndWon</th>\n",
       "      <th>winner_rank</th>\n",
       "      <th>winner_rank_points</th>\n",
       "      <th>loser_rank</th>\n",
       "      <th>loser_rank_points</th>\n",
       "    </tr>\n",
       "  </thead>\n",
       "  <tbody>\n",
       "    <tr>\n",
       "      <th>count</th>\n",
       "      <td>26463</td>\n",
       "      <td>26463.000000</td>\n",
       "      <td>26463.000000</td>\n",
       "      <td>26392.000000</td>\n",
       "      <td>26463.00000</td>\n",
       "      <td>26463.000000</td>\n",
       "      <td>26265.000000</td>\n",
       "      <td>26462.000000</td>\n",
       "      <td>25740.000000</td>\n",
       "      <td>26401.000000</td>\n",
       "      <td>26401.000000</td>\n",
       "      <td>26401.000000</td>\n",
       "      <td>26401.000000</td>\n",
       "      <td>26401.000000</td>\n",
       "      <td>26401.000000</td>\n",
       "      <td>26463.000000</td>\n",
       "      <td>26463.000000</td>\n",
       "      <td>26463.000000</td>\n",
       "      <td>26463.000000</td>\n",
       "    </tr>\n",
       "    <tr>\n",
       "      <th>mean</th>\n",
       "      <td>2011-09-28 01:35:07.108037632</td>\n",
       "      <td>110.706798</td>\n",
       "      <td>109017.406379</td>\n",
       "      <td>186.466240</td>\n",
       "      <td>26.45341</td>\n",
       "      <td>109158.958659</td>\n",
       "      <td>185.848429</td>\n",
       "      <td>26.622326</td>\n",
       "      <td>117.646814</td>\n",
       "      <td>85.400970</td>\n",
       "      <td>39.785879</td>\n",
       "      <td>18.194917</td>\n",
       "      <td>88.838377</td>\n",
       "      <td>35.576721</td>\n",
       "      <td>16.460740</td>\n",
       "      <td>46.273665</td>\n",
       "      <td>2117.783471</td>\n",
       "      <td>75.710804</td>\n",
       "      <td>1177.200884</td>\n",
       "    </tr>\n",
       "    <tr>\n",
       "      <th>min</th>\n",
       "      <td>2000-01-17 00:00:00</td>\n",
       "      <td>1.000000</td>\n",
       "      <td>100644.000000</td>\n",
       "      <td>168.000000</td>\n",
       "      <td>15.80000</td>\n",
       "      <td>100644.000000</td>\n",
       "      <td>168.000000</td>\n",
       "      <td>15.600000</td>\n",
       "      <td>28.000000</td>\n",
       "      <td>9.000000</td>\n",
       "      <td>8.000000</td>\n",
       "      <td>0.000000</td>\n",
       "      <td>0.000000</td>\n",
       "      <td>0.000000</td>\n",
       "      <td>0.000000</td>\n",
       "      <td>1.000000</td>\n",
       "      <td>1.000000</td>\n",
       "      <td>1.000000</td>\n",
       "      <td>1.000000</td>\n",
       "    </tr>\n",
       "    <tr>\n",
       "      <th>25%</th>\n",
       "      <td>2005-08-15 00:00:00</td>\n",
       "      <td>24.000000</td>\n",
       "      <td>103565.000000</td>\n",
       "      <td>183.000000</td>\n",
       "      <td>23.60000</td>\n",
       "      <td>103454.000000</td>\n",
       "      <td>183.000000</td>\n",
       "      <td>23.700000</td>\n",
       "      <td>84.000000</td>\n",
       "      <td>61.000000</td>\n",
       "      <td>29.000000</td>\n",
       "      <td>13.000000</td>\n",
       "      <td>64.000000</td>\n",
       "      <td>24.000000</td>\n",
       "      <td>11.000000</td>\n",
       "      <td>11.000000</td>\n",
       "      <td>745.000000</td>\n",
       "      <td>28.000000</td>\n",
       "      <td>539.000000</td>\n",
       "    </tr>\n",
       "    <tr>\n",
       "      <th>50%</th>\n",
       "      <td>2011-08-29 00:00:00</td>\n",
       "      <td>55.000000</td>\n",
       "      <td>104468.000000</td>\n",
       "      <td>185.000000</td>\n",
       "      <td>26.20000</td>\n",
       "      <td>104372.000000</td>\n",
       "      <td>185.000000</td>\n",
       "      <td>26.400000</td>\n",
       "      <td>109.000000</td>\n",
       "      <td>80.000000</td>\n",
       "      <td>37.000000</td>\n",
       "      <td>17.000000</td>\n",
       "      <td>83.000000</td>\n",
       "      <td>33.000000</td>\n",
       "      <td>15.000000</td>\n",
       "      <td>30.000000</td>\n",
       "      <td>1230.000000</td>\n",
       "      <td>54.000000</td>\n",
       "      <td>835.000000</td>\n",
       "    </tr>\n",
       "    <tr>\n",
       "      <th>75%</th>\n",
       "      <td>2017-07-31 00:00:00</td>\n",
       "      <td>182.000000</td>\n",
       "      <td>105227.000000</td>\n",
       "      <td>190.000000</td>\n",
       "      <td>29.10000</td>\n",
       "      <td>105385.000000</td>\n",
       "      <td>190.000000</td>\n",
       "      <td>29.400000</td>\n",
       "      <td>142.000000</td>\n",
       "      <td>103.000000</td>\n",
       "      <td>48.000000</td>\n",
       "      <td>22.000000</td>\n",
       "      <td>106.000000</td>\n",
       "      <td>44.000000</td>\n",
       "      <td>21.000000</td>\n",
       "      <td>62.000000</td>\n",
       "      <td>2380.000000</td>\n",
       "      <td>92.000000</td>\n",
       "      <td>1310.000000</td>\n",
       "    </tr>\n",
       "    <tr>\n",
       "      <th>max</th>\n",
       "      <td>2023-10-30 00:00:00</td>\n",
       "      <td>1701.000000</td>\n",
       "      <td>210506.000000</td>\n",
       "      <td>211.000000</td>\n",
       "      <td>41.40000</td>\n",
       "      <td>212044.000000</td>\n",
       "      <td>211.000000</td>\n",
       "      <td>42.500000</td>\n",
       "      <td>665.000000</td>\n",
       "      <td>491.000000</td>\n",
       "      <td>292.000000</td>\n",
       "      <td>82.000000</td>\n",
       "      <td>489.000000</td>\n",
       "      <td>284.000000</td>\n",
       "      <td>101.000000</td>\n",
       "      <td>1821.000000</td>\n",
       "      <td>16950.000000</td>\n",
       "      <td>1533.000000</td>\n",
       "      <td>16950.000000</td>\n",
       "    </tr>\n",
       "    <tr>\n",
       "      <th>std</th>\n",
       "      <td>NaN</td>\n",
       "      <td>138.892798</td>\n",
       "      <td>18733.754410</td>\n",
       "      <td>6.798468</td>\n",
       "      <td>3.92236</td>\n",
       "      <td>19017.714992</td>\n",
       "      <td>6.836327</td>\n",
       "      <td>3.969702</td>\n",
       "      <td>44.579847</td>\n",
       "      <td>32.245253</td>\n",
       "      <td>15.018653</td>\n",
       "      <td>7.572120</td>\n",
       "      <td>32.282835</td>\n",
       "      <td>15.859438</td>\n",
       "      <td>7.783563</td>\n",
       "      <td>61.735282</td>\n",
       "      <td>2410.824116</td>\n",
       "      <td>93.048123</td>\n",
       "      <td>1283.695057</td>\n",
       "    </tr>\n",
       "  </tbody>\n",
       "</table>\n",
       "</div>"
      ],
      "text/plain": [
       "                        tourney_date     match_num      winner_id  \\\n",
       "count                          26463  26463.000000   26463.000000   \n",
       "mean   2011-09-28 01:35:07.108037632    110.706798  109017.406379   \n",
       "min              2000-01-17 00:00:00      1.000000  100644.000000   \n",
       "25%              2005-08-15 00:00:00     24.000000  103565.000000   \n",
       "50%              2011-08-29 00:00:00     55.000000  104468.000000   \n",
       "75%              2017-07-31 00:00:00    182.000000  105227.000000   \n",
       "max              2023-10-30 00:00:00   1701.000000  210506.000000   \n",
       "std                              NaN    138.892798   18733.754410   \n",
       "\n",
       "          winner_ht   winner_age       loser_id      loser_ht     loser_age  \\\n",
       "count  26392.000000  26463.00000   26463.000000  26265.000000  26462.000000   \n",
       "mean     186.466240     26.45341  109158.958659    185.848429     26.622326   \n",
       "min      168.000000     15.80000  100644.000000    168.000000     15.600000   \n",
       "25%      183.000000     23.60000  103454.000000    183.000000     23.700000   \n",
       "50%      185.000000     26.20000  104372.000000    185.000000     26.400000   \n",
       "75%      190.000000     29.10000  105385.000000    190.000000     29.400000   \n",
       "max      211.000000     41.40000  212044.000000    211.000000     42.500000   \n",
       "std        6.798468      3.92236   19017.714992      6.836327      3.969702   \n",
       "\n",
       "            minutes        w_svpt      w_1stWon      w_2ndWon        l_svpt  \\\n",
       "count  25740.000000  26401.000000  26401.000000  26401.000000  26401.000000   \n",
       "mean     117.646814     85.400970     39.785879     18.194917     88.838377   \n",
       "min       28.000000      9.000000      8.000000      0.000000      0.000000   \n",
       "25%       84.000000     61.000000     29.000000     13.000000     64.000000   \n",
       "50%      109.000000     80.000000     37.000000     17.000000     83.000000   \n",
       "75%      142.000000    103.000000     48.000000     22.000000    106.000000   \n",
       "max      665.000000    491.000000    292.000000     82.000000    489.000000   \n",
       "std       44.579847     32.245253     15.018653      7.572120     32.282835   \n",
       "\n",
       "           l_1stWon      l_2ndWon   winner_rank  winner_rank_points  \\\n",
       "count  26401.000000  26401.000000  26463.000000        26463.000000   \n",
       "mean      35.576721     16.460740     46.273665         2117.783471   \n",
       "min        0.000000      0.000000      1.000000            1.000000   \n",
       "25%       24.000000     11.000000     11.000000          745.000000   \n",
       "50%       33.000000     15.000000     30.000000         1230.000000   \n",
       "75%       44.000000     21.000000     62.000000         2380.000000   \n",
       "max      284.000000    101.000000   1821.000000        16950.000000   \n",
       "std       15.859438      7.783563     61.735282         2410.824116   \n",
       "\n",
       "         loser_rank  loser_rank_points  \n",
       "count  26463.000000       26463.000000  \n",
       "mean      75.710804        1177.200884  \n",
       "min        1.000000           1.000000  \n",
       "25%       28.000000         539.000000  \n",
       "50%       54.000000         835.000000  \n",
       "75%       92.000000        1310.000000  \n",
       "max     1533.000000       16950.000000  \n",
       "std       93.048123        1283.695057  "
      ]
     },
     "execution_count": 482,
     "metadata": {},
     "output_type": "execute_result"
    }
   ],
   "source": [
    "# Checking for unusual data, potential outliers.\n",
    "train_data.describe()"
   ]
  },
  {
   "cell_type": "code",
   "execution_count": 483,
   "metadata": {},
   "outputs": [
    {
     "data": {
      "text/plain": [
       "<Axes: xlabel='minutes'>"
      ]
     },
     "execution_count": 483,
     "metadata": {},
     "output_type": "execute_result"
    },
    {
     "data": {
      "image/png": "[encoded data removed]",
      "text/plain": [
       "<Figure size 640x480 with 1 Axes>"
      ]
     },
     "metadata": {},
     "output_type": "display_data"
    }
   ],
   "source": [
    "sns.boxplot(x=train_data['minutes'])"
   ]
  },
  {
   "cell_type": "code",
   "execution_count": 484,
   "metadata": {},
   "outputs": [
    {
     "data": {
      "text/plain": [
       "<Axes: xlabel='variable', ylabel='value'>"
      ]
     },
     "execution_count": 484,
     "metadata": {},
     "output_type": "execute_result"
    },
    {
     "data": {
      "image/png": "[encoded data removed]",
      "text/plain": [
       "<Figure size 1000x600 with 1 Axes>"
      ]
     },
     "metadata": {},
     "output_type": "display_data"
    }
   ],
   "source": [
    "fig, axes = plt.subplots(figsize=(10, 6))\n",
    "\n",
    "sns.boxplot(x='variable', y='value', data=pd.melt(train_data[['w_svpt', 'l_svpt']]))\n",
    "sns.boxplot(x='variable', y='value', data=pd.melt(train_data[['w_1stWon', 'l_1stWon']]))\n",
    "sns.boxplot(x='variable', y='value', data=pd.melt(train_data[['w_2ndWon', 'l_2ndWon']]))\n",
    "\n",
    "# 'w_svpt' = winner's number of serve points, 'w_1stWon' = winner's number of first-serve points won, 'w_2ndWon' = winner's number of second-serve points won"
   ]
  },
  {
   "cell_type": "code",
   "execution_count": 485,
   "metadata": {},
   "outputs": [
    {
     "data": {
      "text/html": [
       "<div>\n",
       "<style scoped>\n",
       "    .dataframe tbody tr th:only-of-type {\n",
       "        vertical-align: middle;\n",
       "    }\n",
       "\n",
       "    .dataframe tbody tr th {\n",
       "        vertical-align: top;\n",
       "    }\n",
       "\n",
       "    .dataframe thead th {\n",
       "        text-align: right;\n",
       "    }\n",
       "</style>\n",
       "<table border=\"1\" class=\"dataframe\">\n",
       "  <thead>\n",
       "    <tr style=\"text-align: right;\">\n",
       "      <th></th>\n",
       "      <th>tourney_name</th>\n",
       "      <th>surface</th>\n",
       "      <th>tourney_level</th>\n",
       "      <th>tourney_date</th>\n",
       "      <th>match_num</th>\n",
       "      <th>winner_id</th>\n",
       "      <th>winner_entry</th>\n",
       "      <th>winner_hand</th>\n",
       "      <th>winner_ht</th>\n",
       "      <th>winner_ioc</th>\n",
       "      <th>...</th>\n",
       "      <th>w_1stWon</th>\n",
       "      <th>w_2ndWon</th>\n",
       "      <th>l_svpt</th>\n",
       "      <th>l_1stWon</th>\n",
       "      <th>l_2ndWon</th>\n",
       "      <th>winner_rank</th>\n",
       "      <th>winner_rank_points</th>\n",
       "      <th>loser_rank</th>\n",
       "      <th>loser_rank_points</th>\n",
       "      <th>source</th>\n",
       "    </tr>\n",
       "  </thead>\n",
       "  <tbody>\n",
       "    <tr>\n",
       "      <th>52187</th>\n",
       "      <td>Wimbledon</td>\n",
       "      <td>Grass</td>\n",
       "      <td>G</td>\n",
       "      <td>2010-06-21</td>\n",
       "      <td>60</td>\n",
       "      <td>104545</td>\n",
       "      <td>NaN</td>\n",
       "      <td>R</td>\n",
       "      <td>206.0</td>\n",
       "      <td>USA</td>\n",
       "      <td>...</td>\n",
       "      <td>292.0</td>\n",
       "      <td>82.0</td>\n",
       "      <td>489.0</td>\n",
       "      <td>284.0</td>\n",
       "      <td>101.0</td>\n",
       "      <td>19.0</td>\n",
       "      <td>1925.0</td>\n",
       "      <td>148.0</td>\n",
       "      <td>339.0</td>\n",
       "      <td>train_data</td>\n",
       "    </tr>\n",
       "  </tbody>\n",
       "</table>\n",
       "<p>1 rows × 30 columns</p>\n",
       "</div>"
      ],
      "text/plain": [
       "      tourney_name surface tourney_level tourney_date  match_num  winner_id  \\\n",
       "52187    Wimbledon   Grass             G   2010-06-21         60     104545   \n",
       "\n",
       "      winner_entry winner_hand  winner_ht winner_ioc  ...  w_1stWon  w_2ndWon  \\\n",
       "52187          NaN           R      206.0        USA  ...     292.0      82.0   \n",
       "\n",
       "      l_svpt l_1stWon  l_2ndWon winner_rank  winner_rank_points loser_rank  \\\n",
       "52187  489.0    284.0     101.0        19.0              1925.0      148.0   \n",
       "\n",
       "       loser_rank_points      source  \n",
       "52187              339.0  train_data  \n",
       "\n",
       "[1 rows x 30 columns]"
      ]
     },
     "execution_count": 485,
     "metadata": {},
     "output_type": "execute_result"
    }
   ],
   "source": [
    "# It's really visible that in all variables there is 1 main outlier. It is the longest match that was played during 2010 Wimbledon.\n",
    "# I checked this data on the Internet and it's correct. I won't remove this match from data because it would affect column regarding\n",
    "# fatigue during previous match that I will create later but I will take this knowledge into consideration while filling missing values.\n",
    "train_data.nlargest(1, 'minutes')"
   ]
  },
  {
   "cell_type": "markdown",
   "metadata": {},
   "source": [
    "Height difference"
   ]
  },
  {
   "cell_type": "code",
   "execution_count": 486,
   "metadata": {},
   "outputs": [
    {
     "data": {
      "image/png": "[encoded data removed]",
      "text/plain": [
       "<Figure size 800x600 with 1 Axes>"
      ]
     },
     "metadata": {},
     "output_type": "display_data"
    }
   ],
   "source": [
    "# Function to compare chosen features between winner and loser by drawing histogram of difference.\n",
    "def compare_players(winner_column, loser_column, x_title, y_title='Count'):\n",
    "    plt.figure(figsize=(8, 6))\n",
    "    hight_difference = train_data[winner_column] - train_data[loser_column]\n",
    "\n",
    "    # Calculating bin edges for histogram to be symmetric around 0.\n",
    "    bin_width = (2 * int(abs(hight_difference).max())) / 10\n",
    "    bin_edges = [i * bin_width for i in range(-5, 6)]\n",
    "\n",
    "    plt.hist(hight_difference[hight_difference != 0], bins=bin_edges)\n",
    "    plt.xlabel(x_title, fontsize=14)\n",
    "    plt.ylabel(y_title, fontsize=14)\n",
    "    plt.axvline(x=0, color='red', linestyle='-', linewidth=2)\n",
    "    plt.show()\n",
    "\n",
    "\n",
    "# Difference of hight between winner and loser.\n",
    "compare_players('winner_ht', 'loser_ht', 'Difference in height [cm]')"
   ]
  },
  {
   "cell_type": "markdown",
   "metadata": {},
   "source": [
    "Age difference"
   ]
  },
  {
   "cell_type": "code",
   "execution_count": 487,
   "metadata": {},
   "outputs": [
    {
     "data": {
      "image/png": "[encoded data removed]",
      "text/plain": [
       "<Figure size 800x600 with 1 Axes>"
      ]
     },
     "metadata": {},
     "output_type": "display_data"
    }
   ],
   "source": [
    "# Difference of age between winner and loser.\n",
    "compare_players('winner_age', 'loser_age', 'Difference in age [years]')"
   ]
  },
  {
   "cell_type": "code",
   "execution_count": 488,
   "metadata": {},
   "outputs": [],
   "source": [
    "# Age and height of a player doesn't seem to be a big factor in determining a winner.\n",
    "# But we can spot minor advantage of taller and younger players. This is why I will try to build model with \n",
    "# and without these features and then decide whether to remove them."
   ]
  },
  {
   "cell_type": "markdown",
   "metadata": {},
   "source": [
    "Rank points difference"
   ]
  },
  {
   "cell_type": "code",
   "execution_count": 489,
   "metadata": {},
   "outputs": [
    {
     "data": {
      "image/png": "[encoded data removed]",
      "text/plain": [
       "<Figure size 800x600 with 1 Axes>"
      ]
     },
     "metadata": {},
     "output_type": "display_data"
    }
   ],
   "source": [
    "# Difference of ranking points between winner and loser.\n",
    "compare_players('winner_rank_points', 'loser_rank_points', 'Difference in ranking points')"
   ]
  },
  {
   "cell_type": "code",
   "execution_count": 490,
   "metadata": {},
   "outputs": [],
   "source": [
    "# We can see that ranking points definitly work in favor of winner."
   ]
  },
  {
   "cell_type": "markdown",
   "metadata": {},
   "source": [
    "## Filling in missing values #1"
   ]
  },
  {
   "cell_type": "code",
   "execution_count": 491,
   "metadata": {},
   "outputs": [
    {
     "name": "stdout",
     "output_type": "stream",
     "text": [
      "<class 'pandas.core.frame.DataFrame'>\n",
      "Index: 26463 entries, 52724 to 18982\n",
      "Data columns (total 30 columns):\n",
      " #   Column              Non-Null Count  Dtype         \n",
      "---  ------              --------------  -----         \n",
      " 0   tourney_name        26463 non-null  object        \n",
      " 1   surface             26463 non-null  object        \n",
      " 2   tourney_level       26463 non-null  object        \n",
      " 3   tourney_date        26463 non-null  datetime64[ns]\n",
      " 4   match_num           26463 non-null  int64         \n",
      " 5   winner_id           26463 non-null  int64         \n",
      " 6   winner_entry        3316 non-null   object        \n",
      " 7   winner_hand         26463 non-null  object        \n",
      " 8   winner_ht           26392 non-null  float64       \n",
      " 9   winner_ioc          26463 non-null  object        \n",
      " 10  winner_age          26463 non-null  float64       \n",
      " 11  loser_id            26463 non-null  int64         \n",
      " 12  loser_entry         5733 non-null   object        \n",
      " 13  loser_hand          26463 non-null  object        \n",
      " 14  loser_ht            26265 non-null  float64       \n",
      " 15  loser_ioc           26463 non-null  object        \n",
      " 16  loser_age           26462 non-null  float64       \n",
      " 17  round               26463 non-null  object        \n",
      " 18  minutes             25740 non-null  float64       \n",
      " 19  w_svpt              26401 non-null  float64       \n",
      " 20  w_1stWon            26401 non-null  float64       \n",
      " 21  w_2ndWon            26401 non-null  float64       \n",
      " 22  l_svpt              26401 non-null  float64       \n",
      " 23  l_1stWon            26401 non-null  float64       \n",
      " 24  l_2ndWon            26401 non-null  float64       \n",
      " 25  winner_rank         26463 non-null  float64       \n",
      " 26  winner_rank_points  26463 non-null  float64       \n",
      " 27  loser_rank          26463 non-null  float64       \n",
      " 28  loser_rank_points   26463 non-null  float64       \n",
      " 29  source              26463 non-null  object        \n",
      "dtypes: datetime64[ns](1), float64(15), int64(3), object(11)\n",
      "memory usage: 6.3+ MB\n"
     ]
    }
   ],
   "source": [
    "# Checking how many missing values there is.\n",
    "train_data.info()"
   ]
  },
  {
   "cell_type": "code",
   "execution_count": 492,
   "metadata": {},
   "outputs": [],
   "source": [
    "# Function to fill in missing values with average (this function has option of removing outliers before calculating average).\n",
    "def fill_with_average(df, columns, count_of_outliers=0):\n",
    "    for column_name in columns:\n",
    "        column = df[column_name]\n",
    "        outliers = column.nlargest(count_of_outliers)\n",
    "        filler = round(column[~column.isin(outliers)].mean())\n",
    "        df[column_name] = column.fillna(filler)\n",
    "\n",
    "fill_with_average(train_data, ['winner_ht', 'loser_ht', 'loser_age'])\n",
    "\n",
    "# For the purpose of calculating a better average, I am excluding the longest match.\n",
    "fill_with_average(train_data, ['minutes', 'w_svpt', 'w_1stWon', 'w_2ndWon', 'l_svpt', 'l_1stWon', 'l_2ndWon'], count_of_outliers=1)\n"
   ]
  },
  {
   "cell_type": "markdown",
   "metadata": {},
   "source": [
    "## Data engineering"
   ]
  },
  {
   "cell_type": "code",
   "execution_count": 493,
   "metadata": {},
   "outputs": [
    {
     "name": "stdout",
     "output_type": "stream",
     "text": [
      "['Cincinnati Masters' 'Beijing' 'Indian Wells Masters' 'Rome Masters'\n",
      " 'Roland Garros' 'Monte Carlo Masters' 'Madrid Masters' 'Paris Masters'\n",
      " 'Acapulco' 'Australian Open' 'Wimbledon' 'Dubai' 'US Open' 'London'\n",
      " 'Canada Masters' 'Stuttgart' 'Barcelona' 'Miami Masters'\n",
      " 'Shanghai Masters' 'Memphis' 'Rotterdam' 'Basel' 'Halle' 'Kitzbuhel'\n",
      " 'Tokyo' 'Hamburg Masters' 'Valencia' 'Washington' 'Indianapolis' 'Vienna'\n",
      " 'Stuttgart Masters' 'Mexico City' 'Rio de Janeiro' 'Hamburg'\n",
      " 'Stuttgart Outdoor' 'Astana' 'St. Petersburg']\n"
     ]
    }
   ],
   "source": [
    "# List of tournaments to be mapped to countries:\n",
    "print(train_data[\"tourney_name\"].unique())"
   ]
  },
  {
   "cell_type": "code",
   "execution_count": 494,
   "metadata": {},
   "outputs": [],
   "source": [
    "# Mapping tournaments to countries and creating new column that will be used to determine whether any of players has home advantage.\n",
    "# It may be necessary to later go back and expand this dictionary by positions from test set.\n",
    "ioc_mapping = {'Cincinnati Masters': 'USA',\n",
    "               'Beijing': 'CHN',\n",
    "               'Indian Wells Masters': 'USA',\n",
    "               'Rome Masters': 'ITA',\n",
    "               'Roland Garros': 'FRA',\n",
    "               'Monte Carlo Masters': 'MON',\n",
    "               'Madrid Masters': 'ESP',\n",
    "               'Paris Masters': 'FRA',\n",
    "               'Acapulco': 'MEX',\n",
    "               'Australian Open': 'AUS',\n",
    "               'Wimbledon': 'GBR',\n",
    "               'Dubai': 'UAE',\n",
    "               'US Open': 'USA',\n",
    "               'London': 'GBR',\n",
    "               'Canada Masters': 'CAN',\n",
    "               'Stuttgart': 'GER',\n",
    "               'Barcelona': 'ESP',\n",
    "               'Miami Masters': 'USA',\n",
    "               'Shanghai Masters': 'CHN',\n",
    "               'Memphis': 'USA',\n",
    "               'Rotterdam': 'NED',\n",
    "               'Basel': 'SUI',\n",
    "               'Halle': 'GER',\n",
    "               'Kitzbuhel': 'AUT',\n",
    "               'Tokyo': 'JPN',\n",
    "               'Hamburg Masters': 'GER',\n",
    "               'Valencia': 'ESP',\n",
    "               'Washington': 'USA',\n",
    "               'Indianapolis': 'USA',\n",
    "               'Vienna': 'AUT',\n",
    "               'Stuttgart Masters': 'GER',\n",
    "               'Mexico City': 'MEX',\n",
    "               'Rio de Janeiro': 'BRA',\n",
    "               'Hamburg': 'GER',\n",
    "               'Stuttgart Outdoor': 'GER',\n",
    "               'Astana': 'KAZ',\n",
    "               'St. Petersburg': 'RUS',\n",
    "               'Antwerp': 'BEL',\n",
    "               'Milan': 'ITA',\n",
    "               'Philadelphia': 'USA',\n",
    "               'New Haven': 'USA',\n",
    "               'Singapore': 'SGP',\n",
    "               }\n",
    "\n",
    "def home_advantage_mapping(df):\n",
    "    df.loc[:, 'tourney_ioc'] = df['tourney_name'].replace(ioc_mapping)\n",
    "\n",
    "    # Assigning 1 to the player that has home advantage.\n",
    "    df['home_adv_p1'] = 0\n",
    "    df['home_adv_p2'] = 0\n",
    "    df.loc[(df['winner_ioc'] == df['tourney_ioc']) & (df['winner_ioc'] != df['loser_ioc']), 'home_adv_p1'] = 1\n",
    "    df.loc[(df['loser_ioc'] == df['tourney_ioc']) & (df['winner_ioc'] != df['loser_ioc']), 'home_adv_p2'] = 1\n",
    "    df.drop(['winner_ioc', 'loser_ioc'], axis=1, inplace=True)\n",
    "\n",
    "home_advantage_mapping(train_data)"
   ]
  },
  {
   "cell_type": "code",
   "execution_count": 495,
   "metadata": {},
   "outputs": [
    {
     "name": "stdout",
     "output_type": "stream",
     "text": [
      "home_adv_p1\n",
      "0    24016\n",
      "1     2447\n",
      "Name: count, dtype: int64\n",
      "home_adv_p2\n",
      "0    23657\n",
      "1     2806\n",
      "Name: count, dtype: int64\n"
     ]
    }
   ],
   "source": [
    "print(train_data['home_adv_p1'].value_counts())\n",
    "print(train_data['home_adv_p2'].value_counts())"
   ]
  },
  {
   "cell_type": "code",
   "execution_count": 496,
   "metadata": {},
   "outputs": [
    {
     "name": "stdout",
     "output_type": "stream",
     "text": [
      "winner_hand\n",
      "R    23234\n",
      "L     3212\n",
      "U       17\n",
      "Name: count, dtype: int64\n",
      "loser_hand\n",
      "R    22893\n",
      "L     3518\n",
      "U       52\n",
      "Name: count, dtype: int64\n"
     ]
    }
   ],
   "source": [
    "# Checking options in used hand.\n",
    "print(train_data['winner_hand'].value_counts())\n",
    "print(train_data['loser_hand'].value_counts())"
   ]
  },
  {
   "cell_type": "code",
   "execution_count": 497,
   "metadata": {},
   "outputs": [],
   "source": [
    "# Function that creates 0/1 columns depending if there is the difference in the variable between 2 players. If it is the same then value = 0.\n",
    "def create_columns_0_1(df, old_columns, prefix, condition, should_print=False):  \n",
    "    for i in range(2):\n",
    "        df[f'{prefix}_p{i+1}'] = 0\n",
    "        filter_condition = (df[old_columns[i]].isin(condition) & (df[old_columns[0]] != df[old_columns[1]]))\n",
    "        df.loc[filter_condition, f'{prefix}_p{i+1}'] = 1\n",
    "        if should_print:\n",
    "            print(df[f'{prefix}_p{i+1}'].value_counts())\n",
    "    df.drop(old_columns, axis=1, inplace=True)"
   ]
  },
  {
   "cell_type": "code",
   "execution_count": 498,
   "metadata": {},
   "outputs": [
    {
     "name": "stdout",
     "output_type": "stream",
     "text": [
      "hand_p1\n",
      "0    23671\n",
      "1     2792\n",
      "Name: count, dtype: int64\n",
      "hand_p2\n",
      "0    23365\n",
      "1     3098\n",
      "Name: count, dtype: int64\n"
     ]
    }
   ],
   "source": [
    "# Creating columns depending on used hand. I assumed that players with Unknown hand use Rigt hand because it is far more likely.\n",
    "# Left hand = 1 if only one player uses left hand.\n",
    "create_columns_0_1(train_data, ['winner_hand', 'loser_hand'], 'hand', ['L'], True)"
   ]
  },
  {
   "cell_type": "code",
   "execution_count": 499,
   "metadata": {},
   "outputs": [
    {
     "name": "stdout",
     "output_type": "stream",
     "text": [
      "winner_entry\n",
      "Q      1997\n",
      "WC      949\n",
      "LL      279\n",
      "PR       66\n",
      "SE       23\n",
      "ALT       1\n",
      "Alt       1\n",
      "Name: count, dtype: int64\n",
      "loser_entry\n",
      "Q      3374\n",
      "WC     1714\n",
      "LL      532\n",
      "PR       79\n",
      "SE       31\n",
      "Alt       2\n",
      "ALT       1\n",
      "Name: count, dtype: int64\n"
     ]
    }
   ],
   "source": [
    "# Checking options in entry.\n",
    "print(train_data['winner_entry'].value_counts())\n",
    "print(train_data['loser_entry'].value_counts())"
   ]
  },
  {
   "cell_type": "code",
   "execution_count": 500,
   "metadata": {},
   "outputs": [
    {
     "name": "stdout",
     "output_type": "stream",
     "text": [
      "entry_p1\n",
      "0    24443\n",
      "1     2020\n",
      "Name: count, dtype: int64\n",
      "entry_p2\n",
      "0    22813\n",
      "1     3650\n",
      "Name: count, dtype: int64\n"
     ]
    }
   ],
   "source": [
    "# 'Q' = qualifier, 'WC' = wild card, 'LL' = lucky loser, 'ITF' = ITF entry, 'SE' = special exempt\n",
    "# Mapping Q and LL as 1 and the rest as 0. Only those 2 options really matter because they can indicate additional fatigue of a player\n",
    "# because of the extra matches in elimination to the tournament.\n",
    "create_columns_0_1(train_data, ['winner_entry', 'loser_entry'], 'entry', ['Q', 'LL'], True)"
   ]
  },
  {
   "cell_type": "code",
   "execution_count": 501,
   "metadata": {},
   "outputs": [],
   "source": [
    "# Duplicating DataFrame with switched order and concatinating it together. It is necessary for 2 reasons:\n",
    "# to determine cumulative numbers for each player and to add labels 1/0 that are needed in supervised learning.\n",
    "\n",
    "# Changing column names from winner/loser to p1/p2 because old names wouldn't make sense anymore.\n",
    "def change_prefix(name):\n",
    "    if name.startswith('winner_') or name.startswith('w_'):\n",
    "        return name.split('_', 1)[1] +'_p1'\n",
    "    elif name.startswith('loser_') or name.startswith('l_'):\n",
    "        return name.split('_', 1)[1] +'_p2'\n",
    "    else:\n",
    "        return name\n",
    "\n",
    "# Switching order of columns.\n",
    "def change_places(names):\n",
    "    for i in range(len(names)):\n",
    "        if names[i][-3:] == '_p1':\n",
    "            for j in range(i + 1, len(names)):\n",
    "                if names[i][:-3] == names[j][:-3] and names[j][-3:] == '_p2':\n",
    "                    names[i], names[j] = names[j], names[i]\n",
    "    return names\n",
    "\n",
    "def duplicate_and_add_labels(df):\n",
    "    # DataFrame for wins.\n",
    "    modified_column_names = [change_prefix(name) for name in df.columns]    \n",
    "    df_wins = df.copy()\n",
    "    df_wins.columns = modified_column_names\n",
    "\n",
    "    # Dataframe for losses.\n",
    "    switched_column_names = change_places(modified_column_names.copy())\n",
    "    df_losses = df_wins.copy()[switched_column_names]\n",
    "    df_losses.columns = modified_column_names\n",
    "\n",
    "    # Adding labels and connecting DataFrames together.\n",
    "    df_wins['result'] = 1\n",
    "    df_losses['result'] = 0\n",
    "    atp_with_labels = pd.concat([df_wins, df_losses])\n",
    "    return atp_with_labels\n",
    "\n",
    "train_data = duplicate_and_add_labels(train_data)"
   ]
  },
  {
   "cell_type": "code",
   "execution_count": 502,
   "metadata": {},
   "outputs": [],
   "source": [
    "# Defining constants that will be used to determine moving window in creation of features.\n",
    "# I tested different moving windows for different features.\n",
    "YEARS = 5\n",
    "YEARS_FOR_PTS = 3\n",
    "DAYS = 365 * YEARS\n",
    "DAYS_FOR_PTS = 365 * YEARS_FOR_PTS\n",
    "BASIC_MINIMUM_MATCHES = 8\n",
    "\n",
    "# For this step datasets needs to be concatenated back together.\n",
    "# First, the previous functions need to be executed on additional_data and test_data so the column names would match.\n",
    "# I'm not looking at any of the results from those 2 sets so data leakage is avoided (they weren't used in data exploration\n",
    "# and their missing values were filled in separately).\n",
    "tourneys_mapping(test_data)\n",
    "tourneys_mapping(additional_data)\n",
    "atp_500_mapping(test_data)\n",
    "atp_500_mapping(additional_data)\n",
    "test_data = remove_rows_cols(test_data)\n",
    "additional_data = remove_rows_cols(additional_data)\n",
    "\n",
    "fill_with_average(test_data, ['winner_ht', 'loser_ht', 'loser_age'])\n",
    "fill_with_average(additional_data, ['winner_ht', 'loser_ht', 'loser_age'])\n",
    "fill_with_average(test_data, ['minutes', 'w_svpt', 'w_1stWon', 'w_2ndWon', 'l_svpt', 'l_1stWon', 'l_2ndWon'])\n",
    "fill_with_average(additional_data, ['minutes', 'w_svpt', 'w_1stWon', 'w_2ndWon', 'l_svpt', 'l_1stWon', 'l_2ndWon'])\n",
    "home_advantage_mapping(test_data)\n",
    "home_advantage_mapping(additional_data)\n",
    "create_columns_0_1(test_data, ['winner_hand', 'loser_hand'], 'hand', ['L'])\n",
    "create_columns_0_1(additional_data, ['winner_hand', 'loser_hand'], 'hand', ['L'])\n",
    "create_columns_0_1(test_data, ['winner_entry', 'loser_entry'], 'entry', ['Q', 'LL'])\n",
    "create_columns_0_1(additional_data, ['winner_entry', 'loser_entry'], 'entry', ['Q', 'LL'])\n",
    "test_data = duplicate_and_add_labels(test_data)\n",
    "additional_data = duplicate_and_add_labels(additional_data)\n",
    "\n",
    "# Concatenating datasets.\n",
    "full_data = pd.concat([additional_data, train_data, test_data])\n",
    "\n",
    "# Sorting matches chronologically and changing index to tourney_date (necessary to rolling function).\n",
    "full_data.sort_values(by=['tourney_date', 'match_num'], inplace=True)\n",
    "full_data.set_index('tourney_date', inplace=True)\n",
    "\n",
    "# Function to aggregate data to achieve counts of wins, matches and different statistics per player for the chosen period of time (constant YEARS).\n",
    "# It is very important not to include current row in rolling function and this is why '1' or 'group' needs to be subtracted from the result \n",
    "# depending on aggregation type. I am not using (closed='left') parameter in rolling because there are duplicates in dates and doing so would \n",
    "# result in not inluding data from the whole current tournament. Data doesn't include specific dates of matches only dates of starting the tournament. \n",
    "# This is why I chose the method with subtracting.\n",
    "def aggregate_group(df, agg_column_name, grouping_columns, agg_func='sum', days = DAYS, minimum=0, min_column=False):\n",
    "    grouped_data = df.groupby(grouping_columns)[agg_column_name]\n",
    "    if agg_func == 'sum':\n",
    "        result = grouped_data.transform(lambda group: group.rolling(window=f'{days}D').sum() - group)\n",
    "    elif agg_func == 'count':\n",
    "        result = grouped_data.transform(lambda group: group.rolling(window=f'{days}D').count() - 1)\n",
    "    # Filling in None values if the condition of minimum count of matches isn't met. It is important for ratio because it would be skewed without \n",
    "        # this condition. For example if the player would lost 1 out of 1 matches played it would be 0 and it would be the same for algorithm as \n",
    "        # losing 5 out of 5 matches which really tells much more about player's performance. Such cases will be later filled in with average.\n",
    "    if min_column:\n",
    "        result[df[min_column] < minimum] = np.nan\n",
    "    return result\n",
    "\n",
    "# Function to count wins, matches and ratio per player at the same time.\n",
    "def create_ratio_features(df, agg_column, additional_group_column=None, prefix='', min=BASIC_MINIMUM_MATCHES):\n",
    "    # Determining grouping columns.\n",
    "    grouping_columns = [[f'id_p{i}', additional_group_column] if additional_group_column else f'id_p{i}' for i in range(1, 3)]\n",
    "    \n",
    "    df[f'{prefix}matches_{YEARS}yrs_p1'] = aggregate_group(df, agg_column, grouping_columns[0], 'count')\n",
    "    df[f'{prefix}wins_{YEARS}yrs_p1'] = aggregate_group(df, agg_column, grouping_columns[0], minimum=min, \n",
    "                                                        min_column=f'{prefix}matches_{YEARS}yrs_p1')\n",
    "    df[f'{prefix}ratio_{YEARS}yrs_p1'] = df[f'{prefix}wins_{YEARS}yrs_p1'] / df[f'{prefix}matches_{YEARS}yrs_p1']\n",
    "    df[f'{prefix}matches_{YEARS}yrs_p2'] = aggregate_group(df, agg_column, grouping_columns[1], 'count')\n",
    "    df[f'{prefix}losses_{YEARS}yrs_p2'] = aggregate_group(df, agg_column, grouping_columns[1], minimum=min, \n",
    "                                                          min_column=f'{prefix}matches_{YEARS}yrs_p2')\n",
    "    df[f'{prefix}wins_{YEARS}yrs_p2'] = df[f'{prefix}matches_{YEARS}yrs_p2'] - df[f'{prefix}losses_{YEARS}yrs_p2']\n",
    "    df[f'{prefix}ratio_{YEARS}yrs_p2'] = df[f'{prefix}wins_{YEARS}yrs_p2'] / df[f'{prefix}matches_{YEARS}yrs_p2']\n",
    "\n",
    "# General wins' ratio per x years (without any additional conditions).\n",
    "create_ratio_features(full_data, 'result', min=BASIC_MINIMUM_MATCHES)\n",
    "\n",
    "# Summing won points per match per player and calculating ratios per chosen period of time. I haven't decided yet on this stage whether I will be using \n",
    "# won points in general or won serve points and won returns. This is why I've created both of these columns. I will decide which option to choose after\n",
    "# trials on machine learning models.\n",
    "def create_pts_features(df):\n",
    "    df[f'pts_played'] = df[f'svpt_p1'] + df[f'svpt_p2']\n",
    "\n",
    "    for i in range(1, 3):\n",
    "        df[f'won_svpt_p{i}'] = df[f'1stWon_p{i}'] + df[f'2ndWon_p{i}']\n",
    "\n",
    "    j = 2 # It's needed to correctly calculate won returns and ratio of returns.\n",
    "    for i in range(1, 3):\n",
    "        df[f'matches_{YEARS_FOR_PTS}yrs_p{i}'] = aggregate_group(df, 'result', f'id_p{i}', 'count', days=DAYS_FOR_PTS)\n",
    "        df[f'won_returns_p{i}'] = df[f'svpt_p{j}'] - df[f'won_svpt_p{j}']\n",
    "        df[f'pts_won_p{i}'] = df[f'won_svpt_p{i}'] + df[f'won_returns_p{i}']\n",
    "        df[f'ratio_svpt_{YEARS_FOR_PTS}yrs_p{i}'] = aggregate_group(df, f'won_svpt_p{i}', f'id_p{i}', days=DAYS_FOR_PTS, minimum=BASIC_MINIMUM_MATCHES, \n",
    "                                                            min_column=f'matches_{YEARS_FOR_PTS}yrs_p{i}') / aggregate_group(df, f'svpt_p{i}', f'id_p{i}', days=DAYS_FOR_PTS)\n",
    "        df[f'ratio_returns_{YEARS_FOR_PTS}yrs_p{i}'] = aggregate_group(df, f'won_returns_p{i}', f'id_p{i}', days=DAYS_FOR_PTS, minimum=BASIC_MINIMUM_MATCHES, \n",
    "                                                               min_column=f'matches_{YEARS_FOR_PTS}yrs_p{i}') / aggregate_group(df, f'svpt_p{j}', f'id_p{i}', days=DAYS_FOR_PTS)\n",
    "        df[f'ratio_pts_{YEARS_FOR_PTS}yrs_p{i}'] = aggregate_group(df, f'pts_won_p{i}', f'id_p{i}', days=DAYS_FOR_PTS, minimum=BASIC_MINIMUM_MATCHES, \n",
    "                                                           min_column=f'matches_{YEARS_FOR_PTS}yrs_p{i}') / aggregate_group(df, f'pts_played', f'id_p{i}', days=DAYS_FOR_PTS)\n",
    "        j -= 1\n",
    "\n",
    "create_pts_features(full_data)"
   ]
  },
  {
   "cell_type": "code",
   "execution_count": 503,
   "metadata": {},
   "outputs": [
    {
     "name": "stdout",
     "output_type": "stream",
     "text": [
      "surface\n",
      "Hard      31642\n",
      "Clay      15846\n",
      "Grass      4954\n",
      "Carpet      484\n",
      "Name: count, dtype: int64\n"
     ]
    }
   ],
   "source": [
    "# Checking options in the surface.\n",
    "print(train_data['surface'].value_counts())"
   ]
  },
  {
   "cell_type": "code",
   "execution_count": 504,
   "metadata": {},
   "outputs": [
    {
     "data": {
      "text/plain": [
       "Timestamp('2006-10-30 00:00:00')"
      ]
     },
     "execution_count": 504,
     "metadata": {},
     "output_type": "execute_result"
    }
   ],
   "source": [
    "# Carpet surface is very small in number. Looking for the reason. Checking when the last tournament took place on this surface.\n",
    "train_data.loc[train_data['surface'] == 'Carpet', 'tourney_date'].max()"
   ]
  },
  {
   "cell_type": "code",
   "execution_count": 505,
   "metadata": {},
   "outputs": [],
   "source": [
    "# Last tournament on carpet took place in 30.10.2006 so it makes sense that it is much lower in quantity.\n",
    "# Comparing players' performance (wins' ratio) on every surface to check which one provides advantage to specific player.\n",
    "# I chose lower minimum than in case of general matches (half of it).\n",
    "create_ratio_features(full_data, 'result', additional_group_column='surface', prefix='surface_', min=BASIC_MINIMUM_MATCHES/2)"
   ]
  },
  {
   "cell_type": "code",
   "execution_count": 506,
   "metadata": {},
   "outputs": [],
   "source": [
    "# Direct matches of 2 players per x years.\n",
    "def create_direct_features(df):\n",
    "    df[f'direct_matches_{YEARS}yrs'] = aggregate_group(df, 'result', ['id_p1', 'id_p2'], 'count')\n",
    "    df[f'direct_matches_{YEARS}yrs'] = df[f'direct_matches_{YEARS}yrs'].fillna(0)\n",
    "    df[f'direct_wins_{YEARS}yrs_p1'] = aggregate_group(df, 'result', ['id_p1', 'id_p2'])\n",
    "    df[f'direct_wins_{YEARS}yrs_p2'] = df[f'direct_matches_{YEARS}yrs'] - df[f'direct_wins_{YEARS}yrs_p1']\n",
    "\n",
    "create_direct_features(full_data)"
   ]
  },
  {
   "cell_type": "code",
   "execution_count": 507,
   "metadata": {},
   "outputs": [
    {
     "name": "stdout",
     "output_type": "stream",
     "text": [
      "round\n",
      "R64     15048\n",
      "R32     13516\n",
      "R128    11566\n",
      "R16      6802\n",
      "QF       3440\n",
      "SF       1706\n",
      "F         848\n",
      "Name: count, dtype: int64\n"
     ]
    }
   ],
   "source": [
    "# Checking options in 'round'.\n",
    "print(train_data['round'].value_counts())"
   ]
  },
  {
   "cell_type": "code",
   "execution_count": 508,
   "metadata": {},
   "outputs": [],
   "source": [
    "# Because lower rounds like R64 and R128 may not even appear in many tournaments and in some tournaments some players start \n",
    "# competition even on R16, I consider minimum getting to QF as achievement in specific tournament. So tournaments will be \n",
    "# considered as conducive for the player if he got to round QF or higher in previous x years.\n",
    "rounds_mapping = {'QF': 1, 'SF': 1, 'F': 1}\n",
    "\n",
    "def create_tourney_adv(df):\n",
    "    df['round_pts'] = df['round'].map(lambda x: rounds_mapping.get(x, 0))\n",
    "    # Sum will give 3 points for F, 2 points for SF and 1 point for QF. This time I'm using (closed='left') parameter in rolling \n",
    "    # so players won't get points for currently played tournament.\n",
    "    for i in range(1, 3):\n",
    "        df[f'tourney_{YEARS}yrs_p{i}'] = df.groupby([f'id_p{i}', 'tourney_name'])['round_pts'].transform(\n",
    "            lambda group: group.rolling(window=f'{365*YEARS}D', closed='left').sum())\n",
    "        df[f'tourney_{YEARS}yrs_p{i}'] = df[f'tourney_{YEARS}yrs_p{i}'].fillna(0)\n",
    "        \n",
    "create_tourney_adv(full_data)"
   ]
  },
  {
   "cell_type": "code",
   "execution_count": 509,
   "metadata": {},
   "outputs": [],
   "source": [
    "MATCHES = 3\n",
    "MONTHS = 3\n",
    "\n",
    "# Rating players' performance in the last x months with minimum of x matches. Both by ELO rating and number of matches won/played.\n",
    "def create_last_mths_performance(df):\n",
    "    # Calculating change in ELO rating for every match considering ATP ranking points as the starting point.\n",
    "    result = df['result']\n",
    "    ranking_p1 = df['rank_points_p1']\n",
    "    ranking_p2 = df['rank_points_p2']\n",
    "    # Formula to calculate change in ELO rating.\n",
    "    df['elo_change_p1'] = 20 * (result - (1 / (1 + 10 ** ((ranking_p2 - ranking_p1) / 400))))\n",
    "    df['elo_change_p2'] = - df['elo_change_p1']\n",
    "    # ELO rating.\n",
    "    for i in range(1, 3):\n",
    "        df[f'{MONTHS}_mths_matches_p{i}'] = aggregate_group(df, 'result', f'id_p{i}', 'count', days=30*MONTHS)\n",
    "        df[f'{MONTHS}_mths_elo_p{i}'] = aggregate_group(df, f'elo_change_p{i}', f'id_p{i}', days=30*MONTHS, \n",
    "                                                        minimum=MATCHES, min_column=f'{MONTHS}_mths_matches_p{i}')\n",
    "    # Matches won/played.\n",
    "    df[f'{MONTHS}_mths_wins_p1'] = aggregate_group(df, 'result', 'id_p1', days=30*MONTHS, minimum=MATCHES, \n",
    "                                                   min_column=f'{MONTHS}_mths_matches_p1')\n",
    "    df[f'{MONTHS}_mths_losses_p2'] = aggregate_group(df, 'result', 'id_p2', days=30*MONTHS, minimum=MATCHES, \n",
    "                                                     min_column=f'{MONTHS}_mths_matches_p2')\n",
    "    df[f'{MONTHS}_mths_wins_p2'] = df[f'{MONTHS}_mths_matches_p2'] - df[f'{MONTHS}_mths_losses_p2']\n",
    "\n",
    "create_last_mths_performance(full_data)"
   ]
  },
  {
   "cell_type": "code",
   "execution_count": 510,
   "metadata": {},
   "outputs": [],
   "source": [
    "# Finding duration of the previous match played in the current tournament - it will indicate fatigue of the players.\n",
    "# If there is no previous match then 0 minutes.\n",
    "def create_fatigue_feature(df):\n",
    "    df.reset_index(inplace=True)\n",
    "    for i in range(1, 3):\n",
    "        df[f'previous_minutes_p{i}'] = df.groupby([f'id_p{i}', 'tourney_date'])['minutes'].shift().fillna(0)\n",
    "        \n",
    "create_fatigue_feature(full_data)"
   ]
  },
  {
   "cell_type": "code",
   "execution_count": 511,
   "metadata": {},
   "outputs": [],
   "source": [
    "DAYS_OF_BRAKE = 120\n",
    "\n",
    "# Return after the brake: possible injury or weak performance in previous months that resulted in not qualifying the player to main tournament.\n",
    "# The first match after such brake could result in different performance.\n",
    "# That's why days between matches can also be a valuable information.\n",
    "def create_had_brake_feature(df):\n",
    "    for i in range(1, 3):\n",
    "        df[f'how_long_brake_p{i}'] = df.groupby(f'id_p{i}')['tourney_date'].diff().dt.days\n",
    "\n",
    "create_had_brake_feature(full_data)"
   ]
  },
  {
   "cell_type": "markdown",
   "metadata": {},
   "source": [
    "## Splitting dataset again and removing unnecessary columns"
   ]
  },
  {
   "cell_type": "code",
   "execution_count": 512,
   "metadata": {},
   "outputs": [],
   "source": [
    "# Datasets need to be split again before filling in missing values to prevent data leakage.\n",
    "# Additional data from years 1995-1999 won't be needed anymore.\n",
    "# It was used only to generate x yrs features but won't be used in the learning process.\n",
    "\n",
    "train_data = full_data.loc[full_data['source'] == 'train_data', :]\n",
    "test_data = full_data.loc[full_data['source'] == 'test_data', :]"
   ]
  },
  {
   "cell_type": "code",
   "execution_count": 513,
   "metadata": {},
   "outputs": [
    {
     "data": {
      "text/plain": [
       "Index(['tourney_date', 'tourney_name', 'surface', 'tourney_level', 'match_num',\n",
       "       'id_p1', 'ht_p1', 'age_p1', 'id_p2', 'ht_p2', 'age_p2', 'round',\n",
       "       'minutes', 'svpt_p1', '1stWon_p1', '2ndWon_p1', 'svpt_p2', '1stWon_p2',\n",
       "       '2ndWon_p2', 'rank_p1', 'rank_points_p1', 'rank_p2', 'rank_points_p2',\n",
       "       'source', 'tourney_ioc', 'home_adv_p1', 'home_adv_p2', 'hand_p1',\n",
       "       'hand_p2', 'entry_p1', 'entry_p2', 'result', 'matches_5yrs_p1',\n",
       "       'wins_5yrs_p1', 'ratio_5yrs_p1', 'matches_5yrs_p2', 'losses_5yrs_p2',\n",
       "       'wins_5yrs_p2', 'ratio_5yrs_p2', 'pts_played', 'won_svpt_p1',\n",
       "       'won_svpt_p2', 'matches_3yrs_p1', 'won_returns_p1', 'pts_won_p1',\n",
       "       'ratio_svpt_3yrs_p1', 'ratio_returns_3yrs_p1', 'ratio_pts_3yrs_p1',\n",
       "       'matches_3yrs_p2', 'won_returns_p2', 'pts_won_p2', 'ratio_svpt_3yrs_p2',\n",
       "       'ratio_returns_3yrs_p2', 'ratio_pts_3yrs_p2', 'surface_matches_5yrs_p1',\n",
       "       'surface_wins_5yrs_p1', 'surface_ratio_5yrs_p1',\n",
       "       'surface_matches_5yrs_p2', 'surface_losses_5yrs_p2',\n",
       "       'surface_wins_5yrs_p2', 'surface_ratio_5yrs_p2', 'direct_matches_5yrs',\n",
       "       'direct_wins_5yrs_p1', 'direct_wins_5yrs_p2', 'round_pts',\n",
       "       'tourney_5yrs_p1', 'tourney_5yrs_p2', 'elo_change_p1', 'elo_change_p2',\n",
       "       '3_mths_matches_p1', '3_mths_elo_p1', '3_mths_matches_p2',\n",
       "       '3_mths_elo_p2', '3_mths_wins_p1', '3_mths_losses_p2', '3_mths_wins_p2',\n",
       "       'previous_minutes_p1', 'previous_minutes_p2', 'how_long_brake_p1',\n",
       "       'how_long_brake_p2'],\n",
       "      dtype='object')"
      ]
     },
     "execution_count": 513,
     "metadata": {},
     "output_type": "execute_result"
    }
   ],
   "source": [
    "# Checking what columns are available after data engineering.\n",
    "train_data.columns"
   ]
  },
  {
   "cell_type": "code",
   "execution_count": 514,
   "metadata": {},
   "outputs": [],
   "source": [
    "# Leaving only columns that are useful in ML. \n",
    "necessary_columns = ['result', 'ht_p1', 'age_p1', 'ht_p2', 'age_p2', 'rank_points_p1', 'rank_points_p2', 'home_adv_p1', 'home_adv_p2',\n",
    "                      'hand_p1', 'hand_p2', 'entry_p1', 'entry_p2', f'matches_{YEARS}yrs_p1', f'wins_{YEARS}yrs_p1', f'ratio_{YEARS}yrs_p1',\n",
    "                      f'matches_{YEARS}yrs_p2', f'wins_{YEARS}yrs_p2', f'ratio_{YEARS}yrs_p2', f'ratio_svpt_{YEARS_FOR_PTS}yrs_p1',\n",
    "                      f'ratio_returns_{YEARS_FOR_PTS}yrs_p1', f'ratio_pts_{YEARS_FOR_PTS}yrs_p1', f'ratio_svpt_{YEARS_FOR_PTS}yrs_p2',\n",
    "                      f'ratio_returns_{YEARS_FOR_PTS}yrs_p2', f'ratio_pts_{YEARS_FOR_PTS}yrs_p2', f'surface_matches_{YEARS}yrs_p1',\n",
    "                      f'surface_wins_{YEARS}yrs_p1', f'surface_ratio_{YEARS}yrs_p1', f'surface_matches_{YEARS}yrs_p2',  f'surface_wins_{YEARS}yrs_p2',\n",
    "                      f'surface_ratio_{YEARS}yrs_p2', f'direct_wins_{YEARS}yrs_p1', f'direct_wins_{YEARS}yrs_p2', f'tourney_{YEARS}yrs_p1',\n",
    "                      f'tourney_{YEARS}yrs_p2', f'{MONTHS}_mths_matches_p1', f'{MONTHS}_mths_elo_p1', f'{MONTHS}_mths_matches_p2', f'{MONTHS}_mths_elo_p2',\n",
    "                      f'{MONTHS}_mths_wins_p1', f'{MONTHS}_mths_wins_p2', 'previous_minutes_p1', 'previous_minutes_p2', 'how_long_brake_p1',\n",
    "                      'how_long_brake_p2']\n",
    "\n",
    "train_data = train_data[necessary_columns]\n",
    "test_data = test_data[necessary_columns]"
   ]
  },
  {
   "cell_type": "markdown",
   "metadata": {},
   "source": [
    "## Filling in missing values #2"
   ]
  },
  {
   "cell_type": "code",
   "execution_count": 515,
   "metadata": {},
   "outputs": [
    {
     "name": "stdout",
     "output_type": "stream",
     "text": [
      "<class 'pandas.core.frame.DataFrame'>\n",
      "Index: 52926 entries, 14696 to 80829\n",
      "Data columns (total 45 columns):\n",
      " #   Column                   Non-Null Count  Dtype  \n",
      "---  ------                   --------------  -----  \n",
      " 0   result                   52926 non-null  int64  \n",
      " 1   ht_p1                    52926 non-null  float64\n",
      " 2   age_p1                   52926 non-null  float64\n",
      " 3   ht_p2                    52926 non-null  float64\n",
      " 4   age_p2                   52926 non-null  float64\n",
      " 5   rank_points_p1           52926 non-null  float64\n",
      " 6   rank_points_p2           52926 non-null  float64\n",
      " 7   home_adv_p1              52926 non-null  int64  \n",
      " 8   home_adv_p2              52926 non-null  int64  \n",
      " 9   hand_p1                  52926 non-null  int64  \n",
      " 10  hand_p2                  52926 non-null  int64  \n",
      " 11  entry_p1                 52926 non-null  int64  \n",
      " 12  entry_p2                 52926 non-null  int64  \n",
      " 13  matches_5yrs_p1          52926 non-null  float64\n",
      " 14  wins_5yrs_p1             48849 non-null  float64\n",
      " 15  ratio_5yrs_p1            48849 non-null  float64\n",
      " 16  matches_5yrs_p2          52926 non-null  float64\n",
      " 17  wins_5yrs_p2             48849 non-null  float64\n",
      " 18  ratio_5yrs_p2            48849 non-null  float64\n",
      " 19  ratio_svpt_3yrs_p1       48302 non-null  float64\n",
      " 20  ratio_returns_3yrs_p1    48302 non-null  float64\n",
      " 21  ratio_pts_3yrs_p1        48302 non-null  float64\n",
      " 22  ratio_svpt_3yrs_p2       48302 non-null  float64\n",
      " 23  ratio_returns_3yrs_p2    48302 non-null  float64\n",
      " 24  ratio_pts_3yrs_p2        48302 non-null  float64\n",
      " 25  surface_matches_5yrs_p1  52926 non-null  float64\n",
      " 26  surface_wins_5yrs_p1     47475 non-null  float64\n",
      " 27  surface_ratio_5yrs_p1    47475 non-null  float64\n",
      " 28  surface_matches_5yrs_p2  52926 non-null  float64\n",
      " 29  surface_wins_5yrs_p2     47475 non-null  float64\n",
      " 30  surface_ratio_5yrs_p2    47475 non-null  float64\n",
      " 31  direct_wins_5yrs_p1      52926 non-null  float64\n",
      " 32  direct_wins_5yrs_p2      52926 non-null  float64\n",
      " 33  tourney_5yrs_p1          52926 non-null  float64\n",
      " 34  tourney_5yrs_p2          52926 non-null  float64\n",
      " 35  3_mths_matches_p1        52926 non-null  float64\n",
      " 36  3_mths_elo_p1            40253 non-null  float64\n",
      " 37  3_mths_matches_p2        52926 non-null  float64\n",
      " 38  3_mths_elo_p2            40253 non-null  float64\n",
      " 39  3_mths_wins_p1           40253 non-null  float64\n",
      " 40  3_mths_wins_p2           40253 non-null  float64\n",
      " 41  previous_minutes_p1      52926 non-null  float64\n",
      " 42  previous_minutes_p2      52926 non-null  float64\n",
      " 43  how_long_brake_p1        52268 non-null  float64\n",
      " 44  how_long_brake_p2        52268 non-null  float64\n",
      "dtypes: float64(38), int64(7)\n",
      "memory usage: 18.6 MB\n",
      "None\n"
     ]
    }
   ],
   "source": [
    "# Checking how many missing values there is in newly created features.\n",
    "print(train_data.info())"
   ]
  },
  {
   "cell_type": "code",
   "execution_count": 516,
   "metadata": {},
   "outputs": [
    {
     "data": {
      "text/html": [
       "<div>\n",
       "<style scoped>\n",
       "    .dataframe tbody tr th:only-of-type {\n",
       "        vertical-align: middle;\n",
       "    }\n",
       "\n",
       "    .dataframe tbody tr th {\n",
       "        vertical-align: top;\n",
       "    }\n",
       "\n",
       "    .dataframe thead th {\n",
       "        text-align: right;\n",
       "    }\n",
       "</style>\n",
       "<table border=\"1\" class=\"dataframe\">\n",
       "  <thead>\n",
       "    <tr style=\"text-align: right;\">\n",
       "      <th></th>\n",
       "      <th>surface_ratio_5yrs_p1</th>\n",
       "      <th>surface_ratio_5yrs_p2</th>\n",
       "    </tr>\n",
       "  </thead>\n",
       "  <tbody>\n",
       "    <tr>\n",
       "      <th>count</th>\n",
       "      <td>47475.000000</td>\n",
       "      <td>47475.000000</td>\n",
       "    </tr>\n",
       "    <tr>\n",
       "      <th>mean</th>\n",
       "      <td>0.526505</td>\n",
       "      <td>0.526505</td>\n",
       "    </tr>\n",
       "    <tr>\n",
       "      <th>std</th>\n",
       "      <td>0.163479</td>\n",
       "      <td>0.163479</td>\n",
       "    </tr>\n",
       "    <tr>\n",
       "      <th>min</th>\n",
       "      <td>0.000000</td>\n",
       "      <td>0.000000</td>\n",
       "    </tr>\n",
       "    <tr>\n",
       "      <th>25%</th>\n",
       "      <td>0.423986</td>\n",
       "      <td>0.423986</td>\n",
       "    </tr>\n",
       "    <tr>\n",
       "      <th>50%</th>\n",
       "      <td>0.527778</td>\n",
       "      <td>0.527778</td>\n",
       "    </tr>\n",
       "    <tr>\n",
       "      <th>75%</th>\n",
       "      <td>0.628099</td>\n",
       "      <td>0.628099</td>\n",
       "    </tr>\n",
       "    <tr>\n",
       "      <th>max</th>\n",
       "      <td>1.000000</td>\n",
       "      <td>1.000000</td>\n",
       "    </tr>\n",
       "  </tbody>\n",
       "</table>\n",
       "</div>"
      ],
      "text/plain": [
       "       surface_ratio_5yrs_p1  surface_ratio_5yrs_p2\n",
       "count           47475.000000           47475.000000\n",
       "mean                0.526505               0.526505\n",
       "std                 0.163479               0.163479\n",
       "min                 0.000000               0.000000\n",
       "25%                 0.423986               0.423986\n",
       "50%                 0.527778               0.527778\n",
       "75%                 0.628099               0.628099\n",
       "max                 1.000000               1.000000"
      ]
     },
     "execution_count": 516,
     "metadata": {},
     "output_type": "execute_result"
    }
   ],
   "source": [
    "train_data[['surface_ratio_5yrs_p1', 'surface_ratio_5yrs_p2']].describe()"
   ]
  },
  {
   "cell_type": "code",
   "execution_count": 517,
   "metadata": {},
   "outputs": [],
   "source": [
    "# If any of 2 players in a match is missing value in the specific column based on the previous matches then both players will be filled in \n",
    "# with average of the whole column so this specific feature wouldn't take part in predicting the winner of the specific match.\n",
    "\n",
    "def fill_missing_features(df):\n",
    "    # First I give None value for such pair. I skip columns of int type because there are no missing values in these columns and because np.nan\n",
    "    # would change their dtype.\n",
    "    for column, dtype in df.dtypes.items():\n",
    "        if column[-1:] in['1', '2'] and dtype != 'int64':\n",
    "            prefix = column[:-1]\n",
    "            twin_column = (prefix + '1') if column[-1:] == '2' else (prefix + '2')\n",
    "            df.loc[df[column].isna(), twin_column] = np.nan\n",
    "    # Then I fill it in with average.\n",
    "    for column, dtype in df.dtypes.items():\n",
    "        if dtype != 'int64':\n",
    "            df.loc[df[column].isna(), column] = df[column].mean()\n",
    "\n",
    "fill_missing_features(train_data)\n",
    "fill_missing_features(test_data)"
   ]
  },
  {
   "cell_type": "code",
   "execution_count": 518,
   "metadata": {},
   "outputs": [
    {
     "name": "stdout",
     "output_type": "stream",
     "text": [
      "(52926, 23)\n",
      "(13208, 23)\n"
     ]
    }
   ],
   "source": [
    "# There is one more thing left to do in data engineering.\n",
    "# Using ML algorithm on such list of features would cause the model to be asymmetric. As a result, for example feature 'home_adv_p1' could\n",
    "# be 0.05 and analogous 'home_adv_p2' could be equal to -0.06. It results in a problem because such model could perform better or worse \n",
    "# depeding on the order of the players put into equation. The simplest way to resolve this problem is to replace old features with new ones\n",
    "# that will be equal to the difference of old features. Such approach has 2 benefits: it's symmetric and it reduces number of features by half\n",
    "# so training algorithm will be much faster.\n",
    "def subtract_features(df):\n",
    "    for column in df.columns:\n",
    "        prefix = column[:-1]\n",
    "        twin_column =  f'{prefix}2'\n",
    "        if column[-1:] == '1':\n",
    "            df[f'{prefix}12'] = df[column] - df[twin_column]\n",
    "            df.drop([column, twin_column], axis=1, inplace=True)\n",
    "\n",
    "subtract_features(train_data)\n",
    "subtract_features(test_data)\n",
    "\n",
    "# Making sure that the final sizes of test and train sets are in 80-20 ratio.\n",
    "print(train_data.shape)\n",
    "print(test_data.shape)"
   ]
  },
  {
   "cell_type": "markdown",
   "metadata": {},
   "source": [
    "## Data exploration #2"
   ]
  },
  {
   "cell_type": "markdown",
   "metadata": {},
   "source": [
    "Mostly charts for new features that show their meaning."
   ]
  },
  {
   "cell_type": "code",
   "execution_count": 519,
   "metadata": {},
   "outputs": [
    {
     "data": {
      "image/png": "[encoded data removed]",
      "text/plain": [
       "<Figure size 800x600 with 1 Axes>"
      ]
     },
     "metadata": {},
     "output_type": "display_data"
    }
   ],
   "source": [
    "# Function to compare chosen features between winner and loser by drawing histogram of difference.\n",
    "def compare_players_v2(difference_column, x_title, y_title='Count'):\n",
    "    plt.figure(figsize=(8, 6))\n",
    "    \n",
    "    # Calculating bin edges for histogram to be symmetric around 0.\n",
    "    filtered_data = train_data.loc[(train_data[difference_column] != 0) & (train_data['result'] == 1), difference_column]\n",
    "    bin_width = (2 * abs(filtered_data.max())) / 10\n",
    "    bin_edges = [i * bin_width for i in range(-5, 6)]\n",
    "\n",
    "    plt.hist(filtered_data, bins=bin_edges)\n",
    "    plt.xlabel(x_title, fontsize=14)\n",
    "    plt.ylabel(y_title, fontsize=14)\n",
    "    plt.axvline(x=0, color='red', linestyle='-', linewidth=2)\n",
    "    plt.show()\n",
    "\n",
    "# Difference in duration of the previous match played by winner-loser.\n",
    "compare_players_v2('previous_minutes_p12', 'Difference in minutes')\n",
    "\n",
    "# The histogram indicates a clear advantage for players who spent less time on the court in the last match and are more rested."
   ]
  },
  {
   "cell_type": "code",
   "execution_count": 520,
   "metadata": {},
   "outputs": [
    {
     "data": {
      "image/png": "[encoded data removed]",
      "text/plain": [
       "<Figure size 800x600 with 1 Axes>"
      ]
     },
     "metadata": {},
     "output_type": "display_data"
    }
   ],
   "source": [
    "# Difference in the amount of the matches played in the last 5 years by winner-loser.\n",
    "compare_players_v2('matches_5yrs_p12', 'Difference in the number of matches played')\n",
    "\n",
    "# As expected, it can be clearly observed that a higher number of matches works in favor of the player."
   ]
  },
  {
   "cell_type": "code",
   "execution_count": 521,
   "metadata": {},
   "outputs": [
    {
     "data": {
      "image/png": "[encoded data removed]",
      "text/plain": [
       "<Figure size 800x600 with 1 Axes>"
      ]
     },
     "metadata": {},
     "output_type": "display_data"
    }
   ],
   "source": [
    "# Difference in the ratio of matches won on the specific surface in the last 5 years by winner-loser.\n",
    "compare_players_v2('surface_ratio_5yrs_p12', 'Difference in the ratio of matches won')\n",
    "\n",
    "# This histogram confirms the impact of the playing surface on the probability of players winning."
   ]
  },
  {
   "cell_type": "code",
   "execution_count": 522,
   "metadata": {},
   "outputs": [
    {
     "data": {
      "image/png": "[encoded data removed]",
      "text/plain": [
       "<Figure size 800x600 with 1 Axes>"
      ]
     },
     "metadata": {},
     "output_type": "display_data"
    }
   ],
   "source": [
    "# Difference in performance in the previous editions of the same tournament by winner-loser.\n",
    "compare_players_v2('tourney_5yrs_p12', 'Difference in accomplishments in the tournament')\n",
    "\n",
    "# The chart clearly outlines the advantage of players who have already achieved success in the tournament."
   ]
  },
  {
   "cell_type": "code",
   "execution_count": 523,
   "metadata": {},
   "outputs": [
    {
     "data": {
      "image/png": "[encoded data removed]",
      "text/plain": [
       "<Figure size 800x600 with 1 Axes>"
      ]
     },
     "metadata": {},
     "output_type": "display_data"
    }
   ],
   "source": [
    "# Difference in the number of wins in the previous encounters between winner and loser.\n",
    "compare_players_v2('direct_wins_5yrs_p12', 'Win-loss record')\n",
    "\n",
    "# The impact of the previous direct encounters is obvious as seen on the histogram."
   ]
  },
  {
   "cell_type": "code",
   "execution_count": 524,
   "metadata": {},
   "outputs": [
    {
     "data": {
      "image/png": "[encoded data removed]",
      "text/plain": [
       "<Figure size 800x600 with 1 Axes>"
      ]
     },
     "metadata": {},
     "output_type": "display_data"
    }
   ],
   "source": [
    "# Difference in the duration of brake from the last match by winnner-loser..\n",
    "compare_players_v2('how_long_brake_p12', 'Difference in days of rest')\n",
    "\n",
    "# According to the chart shorter brake is better.\n",
    "# A longer break may indicate a player's poor form due to difficulties in participating in earlier tournaments\n",
    "#  or recovering from injury. Such player typically performs worse upon returning because they've lost their match rhythm."
   ]
  },
  {
   "cell_type": "code",
   "execution_count": 525,
   "metadata": {},
   "outputs": [],
   "source": [
    "# Saving clean train and test datasets to files.\n",
    "train_data.to_csv('../data/03_processed_data/clean_train_data.csv', index=False)\n",
    "test_data.to_csv('../data/03_processed_data/clean_test_data.csv', index=False)"
   ]
  }
 ],
 "metadata": {
  "kernelspec": {
   "display_name": "project_env",
   "language": "python",
   "name": "python3"
  },
  "language_info": {
   "codemirror_mode": {
    "name": "ipython",
    "version": 3
   },
   "file_extension": ".py",
   "mimetype": "text/x-python",
   "name": "python",
   "nbconvert_exporter": "python",
   "pygments_lexer": "ipython3",
   "version": "3.11.4"
  }
 },
 "nbformat": 4,
 "nbformat_minor": 2
}
